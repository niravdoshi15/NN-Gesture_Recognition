{
 "cells": [
  {
   "cell_type": "markdown",
   "metadata": {},
   "source": [
    "# Gesture Recognition\n",
    "In this group project, you are going to build a 3D Conv model that will be able to predict the 5 gestures correctly. Please import the following libraries to get started."
   ]
  },
  {
   "cell_type": "code",
   "execution_count": 1,
   "metadata": {},
   "outputs": [],
   "source": [
    "import numpy as np\n",
    "import os\n",
    "from scipy.misc import imread, imresize\n",
    "import datetime\n",
    "import os"
   ]
  },
  {
   "cell_type": "markdown",
   "metadata": {},
   "source": [
    "We set the random seed so that the results don't vary drastically."
   ]
  },
  {
   "cell_type": "code",
   "execution_count": 2,
   "metadata": {},
   "outputs": [
    {
     "name": "stderr",
     "output_type": "stream",
     "text": [
      "Using TensorFlow backend.\n"
     ]
    }
   ],
   "source": [
    "np.random.seed(30)\n",
    "import random as rn\n",
    "rn.seed(30)\n",
    "from keras import backend as K\n",
    "import tensorflow as tf\n",
    "tf.set_random_seed(30)"
   ]
  },
  {
   "cell_type": "markdown",
   "metadata": {},
   "source": [
    "In this block, you read the folder names for training and validation. You also set the `batch_size` here. Note that you set the batch size in such a way that you are able to use the GPU in full capacity. You keep increasing the batch size until the machine throws an error."
   ]
  },
  {
   "cell_type": "code",
   "execution_count": 3,
   "metadata": {},
   "outputs": [],
   "source": [
    "train_doc = np.random.permutation(open('train.csv').readlines())\n",
    "val_doc = np.random.permutation(open('val.csv').readlines())\n",
    "batch_size = 20"
   ]
  },
  {
   "cell_type": "markdown",
   "metadata": {},
   "source": [
    "## Generator\n",
    "This is one of the most important part of the code. The overall structure of the generator has been given. In the generator, you are going to preprocess the images as you have images of 2 different dimensions as well as create a batch of video frames. You have to experiment with `img_idx`, `y`,`z` and normalization such that you get high accuracy."
   ]
  },
  {
   "cell_type": "code",
   "execution_count": 4,
   "metadata": {},
   "outputs": [],
   "source": [
    "x = 30 # number of images\n",
    "y, z = 120, 120 # weidht & Height of the images\n",
    "\n",
    "def generator(source_path, folder_list, batch_size):\n",
    "    print( 'Source path = ', source_path, '; batch size =', batch_size)\n",
    "    img_idx = [a for a in range(0,x)]#create a list of image numbers you want to use for a particular video\n",
    "    while True:\n",
    "        t = np.random.permutation(folder_list)\n",
    "        num_batches = len(t)//batch_size # calculate the number of batches\n",
    "        for batch in range(num_batches): # we iterate over the number of batches\n",
    "            batch_data = np.zeros((batch_size,x,y,z,3)) # x is the number of images you use for each video, (y,z) is the final size of the input images and 3 is the number of channels RGB\n",
    "            batch_labels = np.zeros((batch_size,5)) # batch_labels is the one hot representation of the output\n",
    "            for folder in range(batch_size): # iterate over the batch_size\n",
    "                imgs = os.listdir(source_path+'/'+ t[folder + (batch*batch_size)].split(';')[0]) # read all the images in the folder\n",
    "                for idx,item in enumerate(img_idx): #  Iterate iver the frames/images of a folder to read them in\n",
    "                    image = imread(source_path+'/'+ t[folder + (batch*batch_size)].strip().split(';')[0]+'/'+imgs[item]).astype(np.float32)\n",
    "                    \n",
    "                    image_resized=imresize(image,(120,120,3))\n",
    "                    #crop the images and resize them. Note that the images are of 2 different shape \n",
    "                    #and the conv3D will throw error if the inputs in a batch have different shapes\n",
    "                    \n",
    "                    batch_data[folder,idx,:,:,0] = (image_resized[:,:,0])/255 #normalise and feed in the image\n",
    "                    batch_data[folder,idx,:,:,1] = (image_resized[:,:,1])/255 #normalise and feed in the image\n",
    "                    batch_data[folder,idx,:,:,2] = (image_resized[:,:,2])/255 #normalise and feed in the image\n",
    "                    \n",
    "                batch_labels[folder, int(t[folder + (batch*batch_size)].strip().split(';')[2])] = 1\n",
    "            yield batch_data, batch_labels #you yield the batch_data and the batch_labels, remember what does yield do\n",
    "\n",
    "\n",
    "# write the code for the remaining data points which are left after full batches\n",
    "        if (len(folder_list) != batch_size*num_batches):\n",
    "            print(\"Batch: \",num_batches+1,\"Index:\", batch_size)\n",
    "            batch_size = len(folder_list) - (batch_size*num_batches)\n",
    "            batch_data = np.zeros((batch_size,x,y,z,3)) # x is the number of images you use for each video, (y,z) is the final size of the input images and 3 is the number of channels RGB\n",
    "            batch_labels = np.zeros((batch_size,5)) # batch_labels is the one hot representation of the output\n",
    "            for folder in range(batch_size): # iterate over the batch_size\n",
    "                imgs = os.listdir(source_path+'/'+ t[folder + (batch*batch_size)].split(';')[0]) # read all the images in the folder\n",
    "                for idx,item in enumerate(img_idx): #  Iterate iver the frames/images of a folder to read them in\n",
    "                    image = imread(source_path+'/'+ t[folder + (batch*batch_size)].strip().split(';')[0]+'/'+imgs[item]).astype(np.float32)\n",
    "                    \n",
    "                    #crop the images and resize them. Note that the images are of 2 different shape \n",
    "                    #and the conv3D will throw error if the inputs in a batch have different shapes\n",
    "                    image_resized=imresize(image,(120,120,3))\n",
    "                                        \n",
    "                    batch_data[folder,idx,:,:,0] = (image_resized[:,:,0])/255 #normalise and feed in the image\n",
    "                    batch_data[folder,idx,:,:,1] = (image_resized[:,:,1])/255 #normalise and feed in the image\n",
    "                    batch_data[folder,idx,:,:,2] = (image_resized[:,:,2])/255 #normalise and feed in the image\n",
    "                    \n",
    "                batch_labels[folder, int(t[folder + (batch*batch_size)].strip().split(';')[2])] = 1\n",
    "            yield batch_data, batch_labels\n"
   ]
  },
  {
   "cell_type": "markdown",
   "metadata": {},
   "source": [
    "Note here that a video is represented above in the generator as (number of images, height, width, number of channels). Take this into consideration while creating the model architecture."
   ]
  },
  {
   "cell_type": "code",
   "execution_count": 5,
   "metadata": {},
   "outputs": [
    {
     "name": "stdout",
     "output_type": "stream",
     "text": [
      "# training sequences = 663\n",
      "# validation sequences = 100\n",
      "# epochs = 20\n"
     ]
    }
   ],
   "source": [
    "curr_dt_time = datetime.datetime.now()\n",
    "train_path = 'train'\n",
    "val_path = 'val'\n",
    "num_train_sequences = len(train_doc)\n",
    "print('# training sequences =', num_train_sequences)\n",
    "num_val_sequences = len(val_doc)\n",
    "print('# validation sequences =', num_val_sequences)\n",
    "num_epochs = 20 # choose the number of epochs\n",
    "print ('# epochs =', num_epochs)"
   ]
  },
  {
   "cell_type": "markdown",
   "metadata": {},
   "source": [
    "## Model\n",
    "Here you make the model using different functionalities that Keras provides. Remember to use `Conv3D` and `MaxPooling3D` and not `Conv2D` and `Maxpooling2D` for a 3D convolution model. You would want to use `TimeDistributed` while building a Conv2D + RNN model. Also remember that the last layer is the softmax. Design the network in such a way that the model is able to give good accuracy on the least number of parameters so that it can fit in the memory of the webcam."
   ]
  },
  {
   "cell_type": "code",
   "execution_count": 6,
   "metadata": {},
   "outputs": [],
   "source": [
    "from keras.models import Sequential, Model\n",
    "from keras.layers import Dense, GRU, Flatten, TimeDistributed, Flatten, BatchNormalization, Activation\n",
    "from keras.layers.convolutional import Conv3D, MaxPooling3D\n",
    "from keras.callbacks import ModelCheckpoint, ReduceLROnPlateau\n",
    "from keras import optimizers\n",
    "from keras.layers import Dropout\n",
    "\n",
    "\n",
    "#write your model here\n",
    "model_1 = Sequential()\n",
    "\n",
    "model_1.add(Conv3D(16, #number of filters \n",
    "                 kernel_size=(2,2,2), \n",
    "                 input_shape=(30, 120, 120, 3),\n",
    "                 padding='same'))\n",
    "model_1.add(BatchNormalization())\n",
    "model_1.add(Activation('relu'))\n",
    "\n",
    "model_1.add(MaxPooling3D(pool_size=(2,2,2)))\n",
    "\n",
    "model_1.add(Conv3D(32, #Number of filters, \n",
    "                 kernel_size=(2,2,2), \n",
    "                 padding='same'))\n",
    "model_1.add(BatchNormalization())\n",
    "model_1.add(Activation('relu'))\n",
    "\n",
    "model_1.add(MaxPooling3D(pool_size=(2,2,2)))\n",
    "\n",
    "model_1.add(Conv3D(64, #Number of filters \n",
    "                 kernel_size=(2,2,2), \n",
    "                 padding='same'))\n",
    "model_1.add(BatchNormalization())\n",
    "model_1.add(Activation('relu'))\n",
    "\n",
    "model_1.add(MaxPooling3D(pool_size=(2,2,2)))\n",
    "\n",
    "model_1.add(Conv3D(128, #Number pf filters \n",
    "                 kernel_size=(2,2,2), \n",
    "                 padding='same'))\n",
    "model_1.add(BatchNormalization())\n",
    "model_1.add(Activation('relu'))\n",
    "\n",
    "model_1.add(MaxPooling3D(pool_size=(2,2,2)))\n",
    "\n",
    "#Flatten Layers\n",
    "model_1.add(Flatten())\n",
    "\n",
    "model_1.add(Dense(256, activation='relu'))\n",
    "model_1.add(Dropout(0.25))\n",
    "\n",
    "model_1.add(Dense(128, activation='relu'))\n",
    "model_1.add(Dropout(0.25))\n",
    "\n",
    "#softmax layer\n",
    "model_1.add(Dense(5, activation='softmax'))\n"
   ]
  },
  {
   "cell_type": "markdown",
   "metadata": {},
   "source": [
    "Now that you have written the model, the next step is to `compile` the model. When you print the `summary` of the model, you'll see the total number of parameters you have to train."
   ]
  },
  {
   "cell_type": "code",
   "execution_count": 7,
   "metadata": {
    "scrolled": true
   },
   "outputs": [
    {
     "name": "stdout",
     "output_type": "stream",
     "text": [
      "_________________________________________________________________\n",
      "Layer (type)                 Output Shape              Param #   \n",
      "=================================================================\n",
      "conv3d_1 (Conv3D)            (None, 30, 120, 120, 16)  400       \n",
      "_________________________________________________________________\n",
      "batch_normalization_1 (Batch (None, 30, 120, 120, 16)  64        \n",
      "_________________________________________________________________\n",
      "activation_1 (Activation)    (None, 30, 120, 120, 16)  0         \n",
      "_________________________________________________________________\n",
      "max_pooling3d_1 (MaxPooling3 (None, 15, 60, 60, 16)    0         \n",
      "_________________________________________________________________\n",
      "conv3d_2 (Conv3D)            (None, 15, 60, 60, 32)    4128      \n",
      "_________________________________________________________________\n",
      "batch_normalization_2 (Batch (None, 15, 60, 60, 32)    128       \n",
      "_________________________________________________________________\n",
      "activation_2 (Activation)    (None, 15, 60, 60, 32)    0         \n",
      "_________________________________________________________________\n",
      "max_pooling3d_2 (MaxPooling3 (None, 7, 30, 30, 32)     0         \n",
      "_________________________________________________________________\n",
      "conv3d_3 (Conv3D)            (None, 7, 30, 30, 64)     16448     \n",
      "_________________________________________________________________\n",
      "batch_normalization_3 (Batch (None, 7, 30, 30, 64)     256       \n",
      "_________________________________________________________________\n",
      "activation_3 (Activation)    (None, 7, 30, 30, 64)     0         \n",
      "_________________________________________________________________\n",
      "max_pooling3d_3 (MaxPooling3 (None, 3, 15, 15, 64)     0         \n",
      "_________________________________________________________________\n",
      "conv3d_4 (Conv3D)            (None, 3, 15, 15, 128)    65664     \n",
      "_________________________________________________________________\n",
      "batch_normalization_4 (Batch (None, 3, 15, 15, 128)    512       \n",
      "_________________________________________________________________\n",
      "activation_4 (Activation)    (None, 3, 15, 15, 128)    0         \n",
      "_________________________________________________________________\n",
      "max_pooling3d_4 (MaxPooling3 (None, 1, 7, 7, 128)      0         \n",
      "_________________________________________________________________\n",
      "flatten_1 (Flatten)          (None, 6272)              0         \n",
      "_________________________________________________________________\n",
      "dense_1 (Dense)              (None, 256)               1605888   \n",
      "_________________________________________________________________\n",
      "dropout_1 (Dropout)          (None, 256)               0         \n",
      "_________________________________________________________________\n",
      "dense_2 (Dense)              (None, 128)               32896     \n",
      "_________________________________________________________________\n",
      "dropout_2 (Dropout)          (None, 128)               0         \n",
      "_________________________________________________________________\n",
      "dense_3 (Dense)              (None, 5)                 645       \n",
      "=================================================================\n",
      "Total params: 1,727,029\n",
      "Trainable params: 1,726,549\n",
      "Non-trainable params: 480\n",
      "_________________________________________________________________\n",
      "None\n"
     ]
    }
   ],
   "source": [
    "optimiser = optimizers.Adam(lr=0.001) #write your optimizer\n",
    "model_1.compile(optimizer=optimiser, loss='categorical_crossentropy', metrics=['categorical_accuracy'])\n",
    "print (model_1.summary())"
   ]
  },
  {
   "cell_type": "markdown",
   "metadata": {},
   "source": [
    "Let us create the `train_generator` and the `val_generator` which will be used in `.fit_generator`."
   ]
  },
  {
   "cell_type": "code",
   "execution_count": 8,
   "metadata": {},
   "outputs": [],
   "source": [
    "train_generator = generator(train_path, train_doc, batch_size)\n",
    "val_generator = generator(val_path, val_doc, batch_size)"
   ]
  },
  {
   "cell_type": "code",
   "execution_count": 9,
   "metadata": {},
   "outputs": [],
   "source": [
    "model_name = 'model_init' + '_' + str(curr_dt_time).replace(' ','').replace(':','_') + '/'\n",
    "    \n",
    "if not os.path.exists(model_name):\n",
    "    os.mkdir(model_name)\n",
    "        \n",
    "filepath = model_name + 'model-{epoch:05d}-{loss:.5f}-{categorical_accuracy:.5f}-{val_loss:.5f}-{val_categorical_accuracy:.5f}.h5'\n",
    "\n",
    "checkpoint = ModelCheckpoint(filepath, monitor='val_loss', verbose=1, save_best_only=False, save_weights_only=False, mode='auto', period=1)\n",
    "\n",
    "LR = ReduceLROnPlateau(monitor='val_loss', factor=0.5, patience=2, cooldown=1, verbose=1) # write the REducelronplateau code here\n",
    "callbacks_list = [checkpoint, LR]"
   ]
  },
  {
   "cell_type": "markdown",
   "metadata": {},
   "source": [
    "The `steps_per_epoch` and `validation_steps` are used by `fit_generator` to decide the number of next() calls it need to make."
   ]
  },
  {
   "cell_type": "code",
   "execution_count": 10,
   "metadata": {},
   "outputs": [],
   "source": [
    "if (num_train_sequences%batch_size) == 0:\n",
    "    steps_per_epoch = int(num_train_sequences/batch_size)\n",
    "else:\n",
    "    steps_per_epoch = (num_train_sequences//batch_size) + 1\n",
    "\n",
    "if (num_val_sequences%batch_size) == 0:\n",
    "    validation_steps = int(num_val_sequences/batch_size)\n",
    "else:\n",
    "    validation_steps = (num_val_sequences//batch_size) + 1"
   ]
  },
  {
   "cell_type": "markdown",
   "metadata": {},
   "source": [
    "Let us now fit the model. This will start training the model and with the help of the checkpoints, you'll be able to save the model at the end of each epoch."
   ]
  },
  {
   "cell_type": "code",
   "execution_count": 11,
   "metadata": {},
   "outputs": [
    {
     "name": "stdout",
     "output_type": "stream",
     "text": [
      "Source path =  val ; batch size = 20\n",
      "Source path =  train ; batch size = 20\n",
      "Epoch 1/20\n"
     ]
    },
    {
     "name": "stderr",
     "output_type": "stream",
     "text": [
      "/mnt/disks/user/anaconda3/lib/python3.6/site-packages/ipykernel_launcher.py:16: DeprecationWarning: `imread` is deprecated!\n",
      "`imread` is deprecated in SciPy 1.0.0, and will be removed in 1.2.0.\n",
      "Use ``imageio.imread`` instead.\n",
      "  app.launch_new_instance()\n",
      "/mnt/disks/user/anaconda3/lib/python3.6/site-packages/ipykernel_launcher.py:18: DeprecationWarning: `imresize` is deprecated!\n",
      "`imresize` is deprecated in SciPy 1.0.0, and will be removed in 1.2.0.\n",
      "Use ``skimage.transform.resize`` instead.\n"
     ]
    },
    {
     "name": "stdout",
     "output_type": "stream",
     "text": [
      "32/34 [===========================>..] - ETA: 11s - loss: 3.1443 - categorical_accuracy: 0.3297Batch:  34 Index: 20\n"
     ]
    },
    {
     "name": "stderr",
     "output_type": "stream",
     "text": [
      "/mnt/disks/user/anaconda3/lib/python3.6/site-packages/ipykernel_launcher.py:39: DeprecationWarning: `imread` is deprecated!\n",
      "`imread` is deprecated in SciPy 1.0.0, and will be removed in 1.2.0.\n",
      "Use ``imageio.imread`` instead.\n",
      "/mnt/disks/user/anaconda3/lib/python3.6/site-packages/ipykernel_launcher.py:43: DeprecationWarning: `imresize` is deprecated!\n",
      "`imresize` is deprecated in SciPy 1.0.0, and will be removed in 1.2.0.\n",
      "Use ``skimage.transform.resize`` instead.\n"
     ]
    },
    {
     "name": "stdout",
     "output_type": "stream",
     "text": [
      "34/34 [==============================] - 195s 6s/step - loss: 3.0217 - categorical_accuracy: 0.3481 - val_loss: 1.7148 - val_categorical_accuracy: 0.2800\n",
      "\n",
      "Epoch 00001: saving model to model_init_2020-06-2916_25_40.241584/model-00001-3.07975-0.33183-1.71482-0.28000.h5\n",
      "Epoch 2/20\n",
      "34/34 [==============================] - 14s 403ms/step - loss: 1.4352 - categorical_accuracy: 0.4118 - val_loss: 1.3635 - val_categorical_accuracy: 0.3400\n",
      "\n",
      "Epoch 00002: saving model to model_init_2020-06-2916_25_40.241584/model-00002-1.43518-0.41176-1.36353-0.34000.h5\n",
      "Epoch 3/20\n",
      "34/34 [==============================] - 15s 435ms/step - loss: 1.5951 - categorical_accuracy: 0.2745 - val_loss: 1.3180 - val_categorical_accuracy: 0.4300\n",
      "\n",
      "Epoch 00003: saving model to model_init_2020-06-2916_25_40.241584/model-00003-1.59514-0.27451-1.31796-0.43000.h5\n",
      "Epoch 4/20\n",
      "34/34 [==============================] - 15s 433ms/step - loss: 1.3313 - categorical_accuracy: 0.4412 - val_loss: 1.0982 - val_categorical_accuracy: 0.5300\n",
      "\n",
      "Epoch 00004: saving model to model_init_2020-06-2916_25_40.241584/model-00004-1.33127-0.44118-1.09825-0.53000.h5\n",
      "Epoch 5/20\n",
      "34/34 [==============================] - 16s 464ms/step - loss: 1.3898 - categorical_accuracy: 0.4216 - val_loss: 1.3897 - val_categorical_accuracy: 0.4300\n",
      "\n",
      "Epoch 00005: saving model to model_init_2020-06-2916_25_40.241584/model-00005-1.38979-0.42157-1.38973-0.43000.h5\n",
      "Epoch 6/20\n",
      "34/34 [==============================] - 15s 433ms/step - loss: 1.3359 - categorical_accuracy: 0.4118 - val_loss: 1.1581 - val_categorical_accuracy: 0.5700\n",
      "\n",
      "Epoch 00006: saving model to model_init_2020-06-2916_25_40.241584/model-00006-1.33593-0.41176-1.15806-0.57000.h5\n",
      "\n",
      "Epoch 00006: ReduceLROnPlateau reducing learning rate to 0.0005000000237487257.\n",
      "Epoch 7/20\n",
      "34/34 [==============================] - 13s 397ms/step - loss: 1.2549 - categorical_accuracy: 0.4706 - val_loss: 1.1186 - val_categorical_accuracy: 0.6200\n",
      "\n",
      "Epoch 00007: saving model to model_init_2020-06-2916_25_40.241584/model-00007-1.25495-0.47059-1.11859-0.62000.h5\n",
      "Epoch 8/20\n",
      "34/34 [==============================] - 16s 457ms/step - loss: 1.0447 - categorical_accuracy: 0.5784 - val_loss: 1.0259 - val_categorical_accuracy: 0.5400\n",
      "\n",
      "Epoch 00008: saving model to model_init_2020-06-2916_25_40.241584/model-00008-1.04467-0.57843-1.02592-0.54000.h5\n",
      "Epoch 9/20\n",
      "34/34 [==============================] - 15s 433ms/step - loss: 0.8544 - categorical_accuracy: 0.6471 - val_loss: 0.9007 - val_categorical_accuracy: 0.6300\n",
      "\n",
      "Epoch 00009: saving model to model_init_2020-06-2916_25_40.241584/model-00009-0.85437-0.64706-0.90070-0.63000.h5\n",
      "Epoch 10/20\n",
      "34/34 [==============================] - 16s 460ms/step - loss: 0.9688 - categorical_accuracy: 0.6667 - val_loss: 0.8743 - val_categorical_accuracy: 0.6200\n",
      "\n",
      "Epoch 00010: saving model to model_init_2020-06-2916_25_40.241584/model-00010-0.96876-0.66667-0.87431-0.62000.h5\n",
      "Epoch 11/20\n",
      "34/34 [==============================] - 16s 483ms/step - loss: 1.0691 - categorical_accuracy: 0.5392 - val_loss: 0.8016 - val_categorical_accuracy: 0.7500\n",
      "\n",
      "Epoch 00011: saving model to model_init_2020-06-2916_25_40.241584/model-00011-1.06909-0.53922-0.80159-0.75000.h5\n",
      "Epoch 12/20\n",
      "34/34 [==============================] - 16s 476ms/step - loss: 0.9519 - categorical_accuracy: 0.6471 - val_loss: 0.7603 - val_categorical_accuracy: 0.7000\n",
      "\n",
      "Epoch 00012: saving model to model_init_2020-06-2916_25_40.241584/model-00012-0.95185-0.64706-0.76027-0.70000.h5\n",
      "Epoch 13/20\n",
      "34/34 [==============================] - 16s 471ms/step - loss: 0.7763 - categorical_accuracy: 0.6765 - val_loss: 0.7787 - val_categorical_accuracy: 0.7100\n",
      "\n",
      "Epoch 00013: saving model to model_init_2020-06-2916_25_40.241584/model-00013-0.77629-0.67647-0.77865-0.71000.h5\n",
      "Epoch 14/20\n",
      "34/34 [==============================] - 16s 466ms/step - loss: 0.7269 - categorical_accuracy: 0.7451 - val_loss: 0.7765 - val_categorical_accuracy: 0.7100\n",
      "\n",
      "Epoch 00014: saving model to model_init_2020-06-2916_25_40.241584/model-00014-0.72691-0.74510-0.77645-0.71000.h5\n",
      "\n",
      "Epoch 00014: ReduceLROnPlateau reducing learning rate to 0.0002500000118743628.\n",
      "Epoch 15/20\n",
      "34/34 [==============================] - 16s 464ms/step - loss: 0.6614 - categorical_accuracy: 0.7647 - val_loss: 0.6270 - val_categorical_accuracy: 0.8100\n",
      "\n",
      "Epoch 00015: saving model to model_init_2020-06-2916_25_40.241584/model-00015-0.66141-0.76471-0.62696-0.81000.h5\n",
      "Epoch 16/20\n",
      "34/34 [==============================] - 16s 477ms/step - loss: 0.7893 - categorical_accuracy: 0.6667 - val_loss: 0.5514 - val_categorical_accuracy: 0.7700\n",
      "\n",
      "Epoch 00016: saving model to model_init_2020-06-2916_25_40.241584/model-00016-0.78927-0.66667-0.55135-0.77000.h5\n",
      "Epoch 17/20\n",
      "34/34 [==============================] - 16s 467ms/step - loss: 0.6081 - categorical_accuracy: 0.8039 - val_loss: 0.5769 - val_categorical_accuracy: 0.7400\n",
      "\n",
      "Epoch 00017: saving model to model_init_2020-06-2916_25_40.241584/model-00017-0.60806-0.80392-0.57690-0.74000.h5\n",
      "Epoch 18/20\n",
      "34/34 [==============================] - 16s 472ms/step - loss: 0.6387 - categorical_accuracy: 0.7843 - val_loss: 0.5626 - val_categorical_accuracy: 0.8100\n",
      "\n",
      "Epoch 00018: saving model to model_init_2020-06-2916_25_40.241584/model-00018-0.63874-0.78431-0.56260-0.81000.h5\n",
      "\n",
      "Epoch 00018: ReduceLROnPlateau reducing learning rate to 0.0001250000059371814.\n",
      "Epoch 19/20\n",
      "34/34 [==============================] - 16s 471ms/step - loss: 0.6344 - categorical_accuracy: 0.7647 - val_loss: 0.5676 - val_categorical_accuracy: 0.7800\n",
      "\n",
      "Epoch 00019: saving model to model_init_2020-06-2916_25_40.241584/model-00019-0.63437-0.76471-0.56758-0.78000.h5\n",
      "Epoch 20/20\n",
      "34/34 [==============================] - 16s 477ms/step - loss: 0.5894 - categorical_accuracy: 0.8235 - val_loss: 0.5251 - val_categorical_accuracy: 0.7900\n",
      "\n",
      "Epoch 00020: saving model to model_init_2020-06-2916_25_40.241584/model-00020-0.58943-0.82353-0.52510-0.79000.h5\n"
     ]
    }
   ],
   "source": [
    "model_plot = model_1.fit_generator(train_generator, steps_per_epoch=steps_per_epoch, epochs=num_epochs, verbose=1, \n",
    "                    callbacks=callbacks_list, validation_data=val_generator, \n",
    "                    validation_steps=validation_steps, class_weight=None, workers=1, initial_epoch=0)"
   ]
  },
  {
   "cell_type": "code",
   "execution_count": 12,
   "metadata": {},
   "outputs": [],
   "source": [
    "import matplotlib.pyplot as plt\n",
    "\n",
    "def plot(history):\n",
    "    fig, axes = plt.subplots(nrows=1, ncols=2, figsize=(20,4))\n",
    "    axes[0].plot(history.history['loss'])   \n",
    "    axes[0].plot(history.history['val_loss'])\n",
    "    axes[0].legend(['loss','val_loss'])\n",
    "    plt.ylabel('Loss')\n",
    "    plt.xlabel('Epoch')\n",
    "    \n",
    "\n",
    "\n",
    "    axes[1].plot(history.history['categorical_accuracy'])   \n",
    "    axes[1].plot(history.history['val_categorical_accuracy'])\n",
    "    axes[1].legend(['categorical_accuracy','val_categorical_accuracy'])\n",
    "    plt.ylabel('Accuracy')\n",
    "    plt.xlabel('Epoch')\n",
    "    \n",
    "    plt.show()"
   ]
  },
  {
   "cell_type": "code",
   "execution_count": 13,
   "metadata": {},
   "outputs": [
    {
     "data": {
      "image/png": "[encoded data removed]",
      "text/plain": [
       "<Figure size 1440x288 with 2 Axes>"
      ]
     },
     "metadata": {},
     "output_type": "display_data"
    }
   ],
   "source": [
    "plot(model_plot)"
   ]
  },
  {
   "cell_type": "markdown",
   "metadata": {},
   "source": [
    "Model 2: 2D Conv + RNN"
   ]
  },
  {
   "cell_type": "code",
   "execution_count": 14,
   "metadata": {
    "scrolled": true
   },
   "outputs": [
    {
     "name": "stderr",
     "output_type": "stream",
     "text": [
      "/mnt/disks/user/anaconda3/lib/python3.6/site-packages/keras_applications/mobilenet.py:206: UserWarning: MobileNet shape is undefined. Weights for input shape (224, 224) will be loaded.\n",
      "  warnings.warn('MobileNet shape is undefined.'\n"
     ]
    },
    {
     "name": "stdout",
     "output_type": "stream",
     "text": [
      "Downloading data from https://github.com/fchollet/deep-learning-models/releases/download/v0.6/mobilenet_1_0_224_tf_no_top.h5\n",
      "17227776/17225924 [==============================] - 2s 0us/step\n"
     ]
    }
   ],
   "source": [
    "from keras.applications import mobilenet\n",
    "pretrained_mobilenet = mobilenet.MobileNet(weights='imagenet', include_top=False)\n",
    "from keras.layers.convolutional import Conv2D, MaxPooling2D\n",
    "from keras.layers.recurrent import LSTM"
   ]
  },
  {
   "cell_type": "code",
   "execution_count": 15,
   "metadata": {},
   "outputs": [],
   "source": [
    "batch_size = 10\n",
    "num_epochs = 25\n",
    "x = 30 # # x is the number of images\n",
    "y, z = 120, 120 # width & height of the image\n",
    "classes = 5 # 5 different gestures \n",
    "channel = 3 # RGB"
   ]
  },
  {
   "cell_type": "code",
   "execution_count": 16,
   "metadata": {},
   "outputs": [],
   "source": [
    "model_2 = Sequential()\n",
    "model_2.add(TimeDistributed(pretrained_mobilenet,input_shape=(x,y,z,channel)))\n",
    "\n",
    "model_2.add(TimeDistributed(BatchNormalization()))\n",
    "model_2.add(TimeDistributed(MaxPooling2D((2, 2))))\n",
    "model_2.add(TimeDistributed(Flatten()))\n",
    "\n",
    "model_2.add(GRU(128))\n",
    "model_2.add(Dropout(0.25))\n",
    "\n",
    "model_2.add(Dense(128,activation='relu'))\n",
    "model_2.add(Dropout(0.25))\n",
    "\n",
    "model_2.add(Dense(5, activation='softmax'))"
   ]
  },
  {
   "cell_type": "code",
   "execution_count": 17,
   "metadata": {},
   "outputs": [
    {
     "name": "stdout",
     "output_type": "stream",
     "text": [
      "_________________________________________________________________\n",
      "Layer (type)                 Output Shape              Param #   \n",
      "=================================================================\n",
      "time_distributed_1 (TimeDist (None, 30, 3, 3, 1024)    3228864   \n",
      "_________________________________________________________________\n",
      "time_distributed_2 (TimeDist (None, 30, 3, 3, 1024)    4096      \n",
      "_________________________________________________________________\n",
      "time_distributed_3 (TimeDist (None, 30, 1, 1, 1024)    0         \n",
      "_________________________________________________________________\n",
      "time_distributed_4 (TimeDist (None, 30, 1024)          0         \n",
      "_________________________________________________________________\n",
      "gru_1 (GRU)                  (None, 128)               442752    \n",
      "_________________________________________________________________\n",
      "dropout_3 (Dropout)          (None, 128)               0         \n",
      "_________________________________________________________________\n",
      "dense_4 (Dense)              (None, 128)               16512     \n",
      "_________________________________________________________________\n",
      "dropout_4 (Dropout)          (None, 128)               0         \n",
      "_________________________________________________________________\n",
      "dense_5 (Dense)              (None, 5)                 645       \n",
      "=================================================================\n",
      "Total params: 3,692,869\n",
      "Trainable params: 3,668,933\n",
      "Non-trainable params: 23,936\n",
      "_________________________________________________________________\n",
      "None\n"
     ]
    }
   ],
   "source": [
    "train_generator_2 = generator(train_path, train_doc, batch_size)\n",
    "val_generator_2 = generator(val_path, val_doc, batch_size)\n",
    "\n",
    "optimiser = optimizers.Adam(lr=0.0001) #write your optimizer\n",
    "model_2.compile(optimizer=optimiser, loss='categorical_crossentropy', metrics=['categorical_accuracy'])\n",
    "print(model_2.summary())"
   ]
  },
  {
   "cell_type": "code",
   "execution_count": 18,
   "metadata": {},
   "outputs": [],
   "source": [
    "model_name = 'model_init' + '_' + str(curr_dt_time).replace(' ','').replace(':','_') + '/'\n",
    "    \n",
    "if not os.path.exists(model_name):\n",
    "    os.mkdir(model_name)\n",
    "        \n",
    "filepath = model_name + 'model-{epoch:05d}-{loss:.5f}-{categorical_accuracy:.5f}-{val_loss:.5f}-{val_categorical_accuracy:.5f}.h5'\n",
    "\n",
    "checkpoint = ModelCheckpoint(filepath, monitor='val_loss', verbose=1, save_best_only=False, save_weights_only=False, mode='auto', period=1)\n",
    "\n",
    "LR = ReduceLROnPlateau(monitor='val_loss', factor=0.5, patience=2, cooldown=1, verbose=1)  # write the REducelronplateau code here\n",
    "callbacks_list = [checkpoint, LR]"
   ]
  },
  {
   "cell_type": "code",
   "execution_count": 19,
   "metadata": {},
   "outputs": [],
   "source": [
    "if (num_train_sequences%batch_size) == 0:\n",
    "    steps_per_epoch = int(num_train_sequences/batch_size)\n",
    "else:\n",
    "    steps_per_epoch = (num_train_sequences//batch_size) + 1\n",
    "\n",
    "if (num_val_sequences%batch_size) == 0:\n",
    "    validation_steps = int(num_val_sequences/batch_size)\n",
    "else:\n",
    "    validation_steps = (num_val_sequences//batch_size) + 1"
   ]
  },
  {
   "cell_type": "code",
   "execution_count": 20,
   "metadata": {},
   "outputs": [
    {
     "name": "stdout",
     "output_type": "stream",
     "text": [
      "Source path = Source path =  val ; batch size = 10\n",
      "Epoch 1/25\n",
      " train ; batch size = 10\n"
     ]
    },
    {
     "name": "stderr",
     "output_type": "stream",
     "text": [
      "/mnt/disks/user/anaconda3/lib/python3.6/site-packages/ipykernel_launcher.py:16: DeprecationWarning: `imread` is deprecated!\n",
      "`imread` is deprecated in SciPy 1.0.0, and will be removed in 1.2.0.\n",
      "Use ``imageio.imread`` instead.\n",
      "  app.launch_new_instance()\n",
      "/mnt/disks/user/anaconda3/lib/python3.6/site-packages/ipykernel_launcher.py:18: DeprecationWarning: `imresize` is deprecated!\n",
      "`imresize` is deprecated in SciPy 1.0.0, and will be removed in 1.2.0.\n",
      "Use ``skimage.transform.resize`` instead.\n"
     ]
    },
    {
     "name": "stdout",
     "output_type": "stream",
     "text": [
      "62/67 [==========================>...] - ETA: 6s - loss: 1.6242 - categorical_accuracy: 0.3129Batch:  67 Index: 10\n"
     ]
    },
    {
     "name": "stderr",
     "output_type": "stream",
     "text": [
      "/mnt/disks/user/anaconda3/lib/python3.6/site-packages/ipykernel_launcher.py:39: DeprecationWarning: `imread` is deprecated!\n",
      "`imread` is deprecated in SciPy 1.0.0, and will be removed in 1.2.0.\n",
      "Use ``imageio.imread`` instead.\n",
      "/mnt/disks/user/anaconda3/lib/python3.6/site-packages/ipykernel_launcher.py:43: DeprecationWarning: `imresize` is deprecated!\n",
      "`imresize` is deprecated in SciPy 1.0.0, and will be removed in 1.2.0.\n",
      "Use ``skimage.transform.resize`` instead.\n"
     ]
    },
    {
     "name": "stdout",
     "output_type": "stream",
     "text": [
      "67/67 [==============================] - 91s 1s/step - loss: 1.6064 - categorical_accuracy: 0.3248 - val_loss: 1.3150 - val_categorical_accuracy: 0.4700\n",
      "\n",
      "Epoch 00001: saving model to model_init_2020-06-2916_25_40.241584/model-00001-1.61041-0.32127-1.31496-0.47000.h5\n",
      "Epoch 2/25\n",
      "67/67 [==============================] - 29s 428ms/step - loss: 1.4090 - categorical_accuracy: 0.3881 - val_loss: 1.0977 - val_categorical_accuracy: 0.6500\n",
      "\n",
      "Epoch 00002: saving model to model_init_2020-06-2916_25_40.241584/model-00002-1.40901-0.38806-1.09773-0.65000.h5\n",
      "Epoch 3/25\n",
      "67/67 [==============================] - 29s 438ms/step - loss: 1.2607 - categorical_accuracy: 0.4726 - val_loss: 0.9653 - val_categorical_accuracy: 0.6000\n",
      "\n",
      "Epoch 00003: saving model to model_init_2020-06-2916_25_40.241584/model-00003-1.26072-0.47264-0.96526-0.60000.h5\n",
      "Epoch 4/25\n",
      "67/67 [==============================] - 30s 447ms/step - loss: 1.2572 - categorical_accuracy: 0.4726 - val_loss: 0.8660 - val_categorical_accuracy: 0.6900\n",
      "\n",
      "Epoch 00004: saving model to model_init_2020-06-2916_25_40.241584/model-00004-1.25724-0.47264-0.86598-0.69000.h5\n",
      "Epoch 5/25\n",
      "67/67 [==============================] - 29s 431ms/step - loss: 1.0935 - categorical_accuracy: 0.5871 - val_loss: 0.8253 - val_categorical_accuracy: 0.7100\n",
      "\n",
      "Epoch 00005: saving model to model_init_2020-06-2916_25_40.241584/model-00005-1.09347-0.58706-0.82527-0.71000.h5\n",
      "Epoch 6/25\n",
      "67/67 [==============================] - 29s 431ms/step - loss: 0.9547 - categorical_accuracy: 0.6318 - val_loss: 0.7793 - val_categorical_accuracy: 0.6500\n",
      "\n",
      "Epoch 00006: saving model to model_init_2020-06-2916_25_40.241584/model-00006-0.95469-0.63184-0.77932-0.65000.h5\n",
      "Epoch 7/25\n",
      "67/67 [==============================] - 29s 428ms/step - loss: 0.9029 - categorical_accuracy: 0.6468 - val_loss: 0.6622 - val_categorical_accuracy: 0.7800\n",
      "\n",
      "Epoch 00007: saving model to model_init_2020-06-2916_25_40.241584/model-00007-0.90289-0.64677-0.66219-0.78000.h5\n",
      "Epoch 8/25\n",
      "67/67 [==============================] - 29s 440ms/step - loss: 0.8045 - categorical_accuracy: 0.7164 - val_loss: 0.5929 - val_categorical_accuracy: 0.7500\n",
      "\n",
      "Epoch 00008: saving model to model_init_2020-06-2916_25_40.241584/model-00008-0.80450-0.71642-0.59291-0.75000.h5\n",
      "Epoch 9/25\n",
      "67/67 [==============================] - 29s 428ms/step - loss: 0.7627 - categorical_accuracy: 0.6915 - val_loss: 0.5094 - val_categorical_accuracy: 0.8400\n",
      "\n",
      "Epoch 00009: saving model to model_init_2020-06-2916_25_40.241584/model-00009-0.76269-0.69154-0.50941-0.84000.h5\n",
      "Epoch 10/25\n",
      "67/67 [==============================] - 29s 427ms/step - loss: 0.7595 - categorical_accuracy: 0.7413 - val_loss: 0.5202 - val_categorical_accuracy: 0.8300\n",
      "\n",
      "Epoch 00010: saving model to model_init_2020-06-2916_25_40.241584/model-00010-0.75947-0.74129-0.52020-0.83000.h5\n",
      "Epoch 11/25\n",
      "67/67 [==============================] - 29s 436ms/step - loss: 0.7212 - categorical_accuracy: 0.7363 - val_loss: 0.5374 - val_categorical_accuracy: 0.8200\n",
      "\n",
      "Epoch 00011: saving model to model_init_2020-06-2916_25_40.241584/model-00011-0.72122-0.73632-0.53741-0.82000.h5\n",
      "\n",
      "Epoch 00011: ReduceLROnPlateau reducing learning rate to 4.999999873689376e-05.\n",
      "Epoch 12/25\n",
      "67/67 [==============================] - 29s 432ms/step - loss: 0.5772 - categorical_accuracy: 0.7761 - val_loss: 0.5240 - val_categorical_accuracy: 0.8000\n",
      "\n",
      "Epoch 00012: saving model to model_init_2020-06-2916_25_40.241584/model-00012-0.57719-0.77612-0.52403-0.80000.h5\n",
      "Epoch 13/25\n",
      "67/67 [==============================] - 30s 452ms/step - loss: 0.6674 - categorical_accuracy: 0.7562 - val_loss: 0.5193 - val_categorical_accuracy: 0.7900\n",
      "\n",
      "Epoch 00013: saving model to model_init_2020-06-2916_25_40.241584/model-00013-0.66737-0.75622-0.51927-0.79000.h5\n",
      "\n",
      "Epoch 00013: ReduceLROnPlateau reducing learning rate to 2.499999936844688e-05.\n",
      "Epoch 14/25\n",
      "67/67 [==============================] - 29s 429ms/step - loss: 0.4964 - categorical_accuracy: 0.8259 - val_loss: 0.4996 - val_categorical_accuracy: 0.8000\n",
      "\n",
      "Epoch 00014: saving model to model_init_2020-06-2916_25_40.241584/model-00014-0.49644-0.82587-0.49958-0.80000.h5\n",
      "Epoch 15/25\n",
      "67/67 [==============================] - 29s 429ms/step - loss: 0.4605 - categorical_accuracy: 0.8557 - val_loss: 0.5014 - val_categorical_accuracy: 0.8100\n",
      "\n",
      "Epoch 00015: saving model to model_init_2020-06-2916_25_40.241584/model-00015-0.46045-0.85572-0.50143-0.81000.h5\n",
      "Epoch 16/25\n",
      "67/67 [==============================] - 29s 433ms/step - loss: 0.4335 - categorical_accuracy: 0.8507 - val_loss: 0.4691 - val_categorical_accuracy: 0.8100\n",
      "\n",
      "Epoch 00016: saving model to model_init_2020-06-2916_25_40.241584/model-00016-0.43354-0.85075-0.46907-0.81000.h5\n",
      "Epoch 17/25\n",
      "67/67 [==============================] - 30s 449ms/step - loss: 0.5356 - categorical_accuracy: 0.8109 - val_loss: 0.4807 - val_categorical_accuracy: 0.8200\n",
      "\n",
      "Epoch 00017: saving model to model_init_2020-06-2916_25_40.241584/model-00017-0.53559-0.81095-0.48071-0.82000.h5\n",
      "Epoch 18/25\n",
      "67/67 [==============================] - 30s 446ms/step - loss: 0.4608 - categorical_accuracy: 0.8607 - val_loss: 0.4543 - val_categorical_accuracy: 0.8300\n",
      "\n",
      "Epoch 00018: saving model to model_init_2020-06-2916_25_40.241584/model-00018-0.46077-0.86070-0.45430-0.83000.h5\n",
      "Epoch 19/25\n",
      "67/67 [==============================] - 30s 441ms/step - loss: 0.4068 - categorical_accuracy: 0.8607 - val_loss: 0.4504 - val_categorical_accuracy: 0.8300\n",
      "\n",
      "Epoch 00019: saving model to model_init_2020-06-2916_25_40.241584/model-00019-0.40683-0.86070-0.45040-0.83000.h5\n",
      "Epoch 20/25\n",
      "67/67 [==============================] - 30s 448ms/step - loss: 0.4153 - categorical_accuracy: 0.8607 - val_loss: 0.4406 - val_categorical_accuracy: 0.8200\n",
      "\n",
      "Epoch 00020: saving model to model_init_2020-06-2916_25_40.241584/model-00020-0.41535-0.86070-0.44061-0.82000.h5\n",
      "Epoch 21/25\n",
      "67/67 [==============================] - 29s 428ms/step - loss: 0.4216 - categorical_accuracy: 0.8557 - val_loss: 0.4459 - val_categorical_accuracy: 0.8200\n",
      "\n",
      "Epoch 00021: saving model to model_init_2020-06-2916_25_40.241584/model-00021-0.42156-0.85572-0.44589-0.82000.h5\n",
      "Epoch 22/25\n",
      "67/67 [==============================] - 29s 428ms/step - loss: 0.3630 - categorical_accuracy: 0.8756 - val_loss: 0.4412 - val_categorical_accuracy: 0.8400\n",
      "\n",
      "Epoch 00022: saving model to model_init_2020-06-2916_25_40.241584/model-00022-0.36298-0.87562-0.44118-0.84000.h5\n",
      "\n",
      "Epoch 00022: ReduceLROnPlateau reducing learning rate to 1.249999968422344e-05.\n",
      "Epoch 23/25\n",
      "67/67 [==============================] - 29s 435ms/step - loss: 0.3477 - categorical_accuracy: 0.9154 - val_loss: 0.4315 - val_categorical_accuracy: 0.8300\n",
      "\n",
      "Epoch 00023: saving model to model_init_2020-06-2916_25_40.241584/model-00023-0.34769-0.91542-0.43145-0.83000.h5\n",
      "Epoch 24/25\n",
      "67/67 [==============================] - 28s 425ms/step - loss: 0.4799 - categorical_accuracy: 0.8259 - val_loss: 0.4342 - val_categorical_accuracy: 0.8400\n",
      "\n",
      "Epoch 00024: saving model to model_init_2020-06-2916_25_40.241584/model-00024-0.47990-0.82587-0.43424-0.84000.h5\n",
      "Epoch 25/25\n",
      "67/67 [==============================] - 29s 435ms/step - loss: 0.3586 - categorical_accuracy: 0.8905 - val_loss: 0.4314 - val_categorical_accuracy: 0.8400\n",
      "\n",
      "Epoch 00025: saving model to model_init_2020-06-2916_25_40.241584/model-00025-0.35861-0.89055-0.43135-0.84000.h5\n"
     ]
    }
   ],
   "source": [
    "model_plot_2 = model_2.fit_generator(train_generator_2, steps_per_epoch=steps_per_epoch, epochs=num_epochs, verbose=1, \n",
    "                    callbacks=callbacks_list, validation_data=val_generator_2, \n",
    "                    validation_steps=validation_steps, class_weight=None, workers=1, initial_epoch=0)"
   ]
  },
  {
   "cell_type": "code",
   "execution_count": 21,
   "metadata": {},
   "outputs": [
    {
     "data": {
      "image/png": "[encoded data removed]",
      "text/plain": [
       "<Figure size 1440x288 with 2 Axes>"
      ]
     },
     "metadata": {},
     "output_type": "display_data"
    }
   ],
   "source": [
    "plot(model_plot_2)"
   ]
  }
 ],
 "metadata": {
  "kernelspec": {
   "display_name": "Python 3",
   "language": "python",
   "name": "python3"
  },
  "language_info": {
   "codemirror_mode": {
    "name": "ipython",
    "version": 3
   },
   "file_extension": ".py",
   "mimetype": "text/x-python",
   "name": "python",
   "nbconvert_exporter": "python",
   "pygments_lexer": "ipython3",
   "version": "3.7.3"
  }
 },
 "nbformat": 4,
 "nbformat_minor": 2
}
